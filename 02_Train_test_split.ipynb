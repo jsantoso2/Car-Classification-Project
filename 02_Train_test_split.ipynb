{
 "cells": [
  {
   "cell_type": "code",
   "execution_count": 10,
   "metadata": {},
   "outputs": [],
   "source": [
    "import pandas as pd\n",
    "import numpy as np\n",
    "import matplotlib.pyplot as plt\n",
    "import os\n",
    "import random\n",
    "from sklearn.model_selection import train_test_split\n",
    "import shutil"
   ]
  },
  {
   "cell_type": "code",
   "execution_count": 2,
   "metadata": {},
   "outputs": [],
   "source": [
    "data_path = os.path.join(os.getcwd(), 'dataset')\n",
    "\n",
    "file_list = os.listdir(data_path)\n",
    "df = pd.read_csv('labels_df.csv')"
   ]
  },
  {
   "cell_type": "code",
   "execution_count": 3,
   "metadata": {},
   "outputs": [
    {
     "data": {
      "text/html": [
       "<div>\n",
       "<style scoped>\n",
       "    .dataframe tbody tr th:only-of-type {\n",
       "        vertical-align: middle;\n",
       "    }\n",
       "\n",
       "    .dataframe tbody tr th {\n",
       "        vertical-align: top;\n",
       "    }\n",
       "\n",
       "    .dataframe thead th {\n",
       "        text-align: right;\n",
       "    }\n",
       "</style>\n",
       "<table border=\"1\" class=\"dataframe\">\n",
       "  <thead>\n",
       "    <tr style=\"text-align: right;\">\n",
       "      <th></th>\n",
       "      <th>file_name</th>\n",
       "      <th>labels</th>\n",
       "    </tr>\n",
       "  </thead>\n",
       "  <tbody>\n",
       "    <tr>\n",
       "      <th>0</th>\n",
       "      <td>00qf715_0.jpeg</td>\n",
       "      <td>toyota avanza</td>\n",
       "    </tr>\n",
       "    <tr>\n",
       "      <th>1</th>\n",
       "      <td>00px849_0.jpeg</td>\n",
       "      <td>toyota avanza</td>\n",
       "    </tr>\n",
       "    <tr>\n",
       "      <th>2</th>\n",
       "      <td>00pr438_0.jpeg</td>\n",
       "      <td>toyota avanza</td>\n",
       "    </tr>\n",
       "    <tr>\n",
       "      <th>3</th>\n",
       "      <td>00qh040_0.png</td>\n",
       "      <td>toyota avanza</td>\n",
       "    </tr>\n",
       "    <tr>\n",
       "      <th>4</th>\n",
       "      <td>00qf715_1.jpeg</td>\n",
       "      <td>toyota avanza</td>\n",
       "    </tr>\n",
       "  </tbody>\n",
       "</table>\n",
       "</div>"
      ],
      "text/plain": [
       "        file_name         labels\n",
       "0  00qf715_0.jpeg  toyota avanza\n",
       "1  00px849_0.jpeg  toyota avanza\n",
       "2  00pr438_0.jpeg  toyota avanza\n",
       "3   00qh040_0.png  toyota avanza\n",
       "4  00qf715_1.jpeg  toyota avanza"
      ]
     },
     "execution_count": 3,
     "metadata": {},
     "output_type": "execute_result"
    }
   ],
   "source": [
    "df.head()"
   ]
  },
  {
   "cell_type": "code",
   "execution_count": 4,
   "metadata": {},
   "outputs": [
    {
     "name": "stdout",
     "output_type": "stream",
     "text": [
      "Filtered_df shape:  (9288, 2)\n",
      "Filelist length:  9288\n"
     ]
    }
   ],
   "source": [
    "df = df[df['file_name'].isin(file_list)]\n",
    "print('Filtered_df shape: ', df.shape)\n",
    "print('Filelist length: ', len(file_list))"
   ]
  },
  {
   "cell_type": "code",
   "execution_count": 5,
   "metadata": {},
   "outputs": [],
   "source": [
    "X = np.array(df['file_name'])\n",
    "y = np.array(df['labels'])"
   ]
  },
  {
   "cell_type": "code",
   "execution_count": 6,
   "metadata": {},
   "outputs": [],
   "source": [
    "X_train, X_test, y_train, y_test = train_test_split(X, y, test_size=0.2, random_state=42)\n",
    "X_train, X_val, y_train, v_val = train_test_split(X_train, y_train, test_size=0.05, random_state = 42)"
   ]
  },
  {
   "cell_type": "code",
   "execution_count": 7,
   "metadata": {},
   "outputs": [
    {
     "name": "stdout",
     "output_type": "stream",
     "text": [
      "Train size:  7058\n",
      "Val size:  372\n",
      "Test size:  1858\n"
     ]
    }
   ],
   "source": [
    "print('Train size: ', X_train.shape[0])\n",
    "print('Val size: ', X_val.shape[0])\n",
    "print('Test size: ', X_test.shape[0])"
   ]
  },
  {
   "cell_type": "code",
   "execution_count": 13,
   "metadata": {},
   "outputs": [],
   "source": [
    "# move files to destination\n",
    "for tr in X_train:\n",
    "    # Move a file from the directory d1 to d2\n",
    "    shutil.move(os.path.join(os.getcwd(), 'dataset', tr), os.path.join(os.getcwd(), 'dataset_final', 'train', tr))\n",
    "\n",
    "for v in X_val:\n",
    "    # Move a file from the directory d1 to d2\n",
    "    shutil.move(os.path.join(os.getcwd(), 'dataset', v), os.path.join(os.getcwd(), 'dataset_final', 'val', v))\n",
    "\n",
    "for t in X_test:\n",
    "    # Move a file from the directory d1 to d2\n",
    "    shutil.move(os.path.join(os.getcwd(), 'dataset', t), os.path.join(os.getcwd(), 'dataset_final', 'test', t))"
   ]
  },
  {
   "cell_type": "code",
   "execution_count": 16,
   "metadata": {},
   "outputs": [],
   "source": [
    "# create labels in csv format\n",
    "train_df = df[df['file_name'].isin(X_train)]\n",
    "val_df = df[df['file_name'].isin(X_val)]\n",
    "test_df = df[df['file_name'].isin(X_test)]\n",
    "\n",
    "train_df.to_csv('labels_train.csv', index = False)\n",
    "val_df.to_csv('labels_val.csv', index = False)\n",
    "test_df.to_csv('labels_test.csv', index = False)"
   ]
  },
  {
   "cell_type": "code",
   "execution_count": null,
   "metadata": {},
   "outputs": [],
   "source": []
  },
  {
   "cell_type": "code",
   "execution_count": null,
   "metadata": {},
   "outputs": [],
   "source": []
  }
 ],
 "metadata": {
  "kernelspec": {
   "display_name": "Python 3",
   "language": "python",
   "name": "python3"
  },
  "language_info": {
   "codemirror_mode": {
    "name": "ipython",
    "version": 3
   },
   "file_extension": ".py",
   "mimetype": "text/x-python",
   "name": "python",
   "nbconvert_exporter": "python",
   "pygments_lexer": "ipython3",
   "version": "3.7.6"
  }
 },
 "nbformat": 4,
 "nbformat_minor": 4
}
