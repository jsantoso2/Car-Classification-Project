{
 "cells": [
  {
   "cell_type": "code",
   "execution_count": 1,
   "metadata": {},
   "outputs": [],
   "source": [
    "import numpy as np\n",
    "import pandas as pd\n",
    "from bs4 import BeautifulSoup\n",
    "import time\n",
    "import re\n",
    "import os\n",
    "\n",
    "# pandas options\n",
    "pd.set_option('display.max_rows', 500)\n",
    "pd.set_option('display.max_columns', 500)\n",
    "pd.set_option('display.width', 1000)"
   ]
  },
  {
   "cell_type": "code",
   "execution_count": 2,
   "metadata": {},
   "outputs": [],
   "source": [
    "# selenium imports\n",
    "from selenium import webdriver"
   ]
  },
  {
   "cell_type": "code",
   "execution_count": 3,
   "metadata": {},
   "outputs": [],
   "source": [
    "# final\n",
    "url = 'https://garasi.id/pencarian/mobil-bekas/semua?q=min_year%3D2015&province_id%5B0%5D=5&province_id%5B1%5D=10&province_id%5B2%5D=11&province_id%5B3%5D=12&province_id%5B4%5D=17&province_id%5B5%5D=18&min_year=2015&min_price=&is_featured=&sort=price-asc'"
   ]
  },
  {
   "cell_type": "code",
   "execution_count": 4,
   "metadata": {},
   "outputs": [],
   "source": [
    "# load url in chrome webdriver\n",
    "driver = webdriver.Chrome()\n",
    "driver.get(url)\n",
    "\n",
    "# scroll down to get to list of brands\n",
    "driver.execute_script(\"window.scrollTo(0, 300)\")\n",
    "time.sleep(1)"
   ]
  },
  {
   "cell_type": "code",
   "execution_count": 10,
   "metadata": {},
   "outputs": [],
   "source": [
    "# source: https://www.statista.com/statistics/981088/indonesia-new-vehicle-sale/\n",
    "# source: https://www.thejakartapost.com/life/2018/01/20/gaikindo-reveals-five-popular-car-brands-in-indonesia-in-2017.html\n",
    "# top 5 brands in Indonesia\n",
    "brands = ['Toyota', 'Honda', 'Daihatsu', 'Mitsubishi', 'Suzuki']\n",
    "models = ['Ertiga']\n",
    "#models = ['Avanza', 'Kijang Innova', 'Calya', 'Fortuner', 'Agya', 'Rush', 'Yaris',\n",
    "#          'Brio', 'Mobilio', 'HR-V', 'Jazz', 'BR-V', 'CR-V',\n",
    "#          'Xenia', 'Sigra', 'Ayla', 'Terios', 'Pajero Sport', 'Xpander', 'Ertiga']"
   ]
  },
  {
   "cell_type": "code",
   "execution_count": 11,
   "metadata": {},
   "outputs": [],
   "source": [
    "def scrape_url(currmod_idx):\n",
    "    listing_url = []\n",
    "    featured = []\n",
    "    \n",
    "    # iterate through brands\n",
    "    for i in range(2,15):\n",
    "        car_brand = driver.find_element_by_xpath(\"//*[@id='root']/div[1]/main/div/div/div[3]/div[1]/div[2]/div/form/div[4]/div[3]/div/div/div[2]/div[\" + str(i) + \"]/div\")                                                    \n",
    "\n",
    "        # if found brand\n",
    "        if car_brand.text in brands:\n",
    "            car_brand.click()    \n",
    "            model_labels = driver.find_elements_by_class_name('InputSelectionRow_Label')\n",
    "\n",
    "            # iterate through list of models\n",
    "            for j in range(len(model_labels)):\n",
    "                if model_labels[j].text == models[currmod_idx]:\n",
    "                    ########## click filter\n",
    "                    checkbox = model_labels[j].find_element_by_class_name('InputSelectionRow_Selection')\n",
    "                    checkbox.click()\n",
    "\n",
    "                    ########## More scrolling to expand on number of listings\n",
    "                    SCROLL_PAUSE_TIME = 1\n",
    "\n",
    "                    for k in range(5):\n",
    "                        driver.execute_script(\"window.scrollTo(0, document.body.scrollHeight)\")\n",
    "                        time.sleep(SCROLL_PAUSE_TIME)        \n",
    "\n",
    "                    ####### Collect listing url here\n",
    "                    links = driver.find_elements_by_class_name('link-none')\n",
    "\n",
    "                    # iterate through list of listings\n",
    "                    for k in range(2,len(links)):\n",
    "                        itm = links[k]\n",
    "                        # add listing url\n",
    "                        listing_url.append(itm.get_property(\"href\"))\n",
    "                        # check if listing is featured\n",
    "                        feat = itm.find_elements_by_tag_name(\"img\")\n",
    "                        f = False\n",
    "                        for l in feat:\n",
    "                            if l.get_property(\"title\") == 'mobil pilihan':\n",
    "                                f = True\n",
    "                        featured.append(f)\n",
    "\n",
    "                    ##### scroll to top\n",
    "                    driver.execute_script(\"window.scrollTo(0, 0)\")    \n",
    "\n",
    "                    # close filter\n",
    "                    close = driver.find_element_by_xpath('//*[@id=\"root\"]/div[1]/main/div/div[2]/div[2]/form/div[1]/span[2]')\n",
    "                    close.click()\n",
    "\n",
    "                    # scroll down to get to list of brands\n",
    "                    driver.execute_script(\"window.scrollTo(0, 300)\")\n",
    "                    time.sleep(1)\n",
    "\n",
    "                    # click again to close accordion\n",
    "                    car_brand = driver.find_element_by_xpath(\"//*[@id='root']/div[1]/main/div/div/div[3]/div[1]/div[2]/div/form/div[4]/div[3]/div/div/div[2]/div[\" + str(i) + \"]/div\")\n",
    "                    car_brand.click()\n",
    "                    return listing_url, featured\n",
    "                    \n",
    "    # dummy return for fail\n",
    "    return -1, -1"
   ]
  },
  {
   "cell_type": "code",
   "execution_count": 7,
   "metadata": {},
   "outputs": [],
   "source": [
    "all_listing = []\n",
    "all_featured = []"
   ]
  },
  {
   "cell_type": "code",
   "execution_count": 12,
   "metadata": {},
   "outputs": [
    {
     "name": "stdout",
     "output_type": "stream",
     "text": [
      "Scraping:  Ertiga\n"
     ]
    }
   ],
   "source": [
    "# scrape url for all models\n",
    "for i in range(len(models)):\n",
    "    print('Scraping: ', models[i])\n",
    "    listing, featured = scrape_url(i)\n",
    "    all_listing.extend(listing)\n",
    "    all_featured.extend(featured)\n",
    "\n",
    "driver.close()"
   ]
  },
  {
   "cell_type": "code",
   "execution_count": 13,
   "metadata": {},
   "outputs": [
    {
     "data": {
      "text/plain": [
       "['https://garasi.id/mobil-bekas/2015-suzuki-ertiga/00pz138',\n",
       " 'https://garasi.id/mobil-bekas/2017-suzuki-ertiga/00ou972',\n",
       " 'https://garasi.id/mobil-bekas/2018-suzuki-ertiga/00qe045',\n",
       " 'https://garasi.id/mobil-bekas/2018-suzuki-ertiga/00qg147',\n",
       " 'https://garasi.id/mobil-bekas/2015-suzuki-ertiga/00py107']"
      ]
     },
     "execution_count": 13,
     "metadata": {},
     "output_type": "execute_result"
    }
   ],
   "source": [
    "all_listing[-5:]"
   ]
  },
  {
   "cell_type": "code",
   "execution_count": 14,
   "metadata": {},
   "outputs": [],
   "source": [
    "df = pd.DataFrame()\n",
    "df['listing_url'] = all_listing\n",
    "df['featured'] = all_featured"
   ]
  },
  {
   "cell_type": "code",
   "execution_count": 15,
   "metadata": {},
   "outputs": [
    {
     "data": {
      "text/html": [
       "<div>\n",
       "<style scoped>\n",
       "    .dataframe tbody tr th:only-of-type {\n",
       "        vertical-align: middle;\n",
       "    }\n",
       "\n",
       "    .dataframe tbody tr th {\n",
       "        vertical-align: top;\n",
       "    }\n",
       "\n",
       "    .dataframe thead th {\n",
       "        text-align: right;\n",
       "    }\n",
       "</style>\n",
       "<table border=\"1\" class=\"dataframe\">\n",
       "  <thead>\n",
       "    <tr style=\"text-align: right;\">\n",
       "      <th></th>\n",
       "      <th>listing_url</th>\n",
       "      <th>featured</th>\n",
       "    </tr>\n",
       "  </thead>\n",
       "  <tbody>\n",
       "    <tr>\n",
       "      <th>0</th>\n",
       "      <td>https://garasi.id/mobil-bekas/2017-toyota-avan...</td>\n",
       "      <td>True</td>\n",
       "    </tr>\n",
       "    <tr>\n",
       "      <th>1</th>\n",
       "      <td>https://garasi.id/mobil-bekas/2015-toyota-avan...</td>\n",
       "      <td>True</td>\n",
       "    </tr>\n",
       "    <tr>\n",
       "      <th>2</th>\n",
       "      <td>https://garasi.id/mobil-bekas/2015-toyota-avan...</td>\n",
       "      <td>False</td>\n",
       "    </tr>\n",
       "    <tr>\n",
       "      <th>3</th>\n",
       "      <td>https://garasi.id/mobil-bekas/2016-toyota-avan...</td>\n",
       "      <td>False</td>\n",
       "    </tr>\n",
       "    <tr>\n",
       "      <th>4</th>\n",
       "      <td>https://garasi.id/mobil-bekas/2019-toyota-avan...</td>\n",
       "      <td>False</td>\n",
       "    </tr>\n",
       "  </tbody>\n",
       "</table>\n",
       "</div>"
      ],
      "text/plain": [
       "                                         listing_url  featured\n",
       "0  https://garasi.id/mobil-bekas/2017-toyota-avan...      True\n",
       "1  https://garasi.id/mobil-bekas/2015-toyota-avan...      True\n",
       "2  https://garasi.id/mobil-bekas/2015-toyota-avan...     False\n",
       "3  https://garasi.id/mobil-bekas/2016-toyota-avan...     False\n",
       "4  https://garasi.id/mobil-bekas/2019-toyota-avan...     False"
      ]
     },
     "execution_count": 15,
     "metadata": {},
     "output_type": "execute_result"
    }
   ],
   "source": [
    "df.head()"
   ]
  },
  {
   "cell_type": "code",
   "execution_count": 16,
   "metadata": {},
   "outputs": [
    {
     "data": {
      "text/plain": [
       "(3687, 2)"
      ]
     },
     "execution_count": 16,
     "metadata": {},
     "output_type": "execute_result"
    }
   ],
   "source": [
    "df.shape # has some duplicates"
   ]
  },
  {
   "cell_type": "code",
   "execution_count": 17,
   "metadata": {},
   "outputs": [],
   "source": [
    "df.drop_duplicates(inplace = True, ignore_index = True)"
   ]
  },
  {
   "cell_type": "code",
   "execution_count": 18,
   "metadata": {},
   "outputs": [
    {
     "data": {
      "text/plain": [
       "(2610, 2)"
      ]
     },
     "execution_count": 18,
     "metadata": {},
     "output_type": "execute_result"
    }
   ],
   "source": [
    "df.shape"
   ]
  },
  {
   "cell_type": "code",
   "execution_count": 19,
   "metadata": {},
   "outputs": [],
   "source": [
    "df.to_csv('listing_url.csv', index = False) # remove duplicates"
   ]
  },
  {
   "cell_type": "code",
   "execution_count": null,
   "metadata": {},
   "outputs": [],
   "source": []
  },
  {
   "cell_type": "code",
   "execution_count": null,
   "metadata": {},
   "outputs": [],
   "source": []
  },
  {
   "cell_type": "code",
   "execution_count": null,
   "metadata": {},
   "outputs": [],
   "source": []
  },
  {
   "cell_type": "code",
   "execution_count": null,
   "metadata": {},
   "outputs": [],
   "source": []
  },
  {
   "cell_type": "code",
   "execution_count": null,
   "metadata": {},
   "outputs": [],
   "source": []
  }
 ],
 "metadata": {
  "kernelspec": {
   "display_name": "Python 3",
   "language": "python",
   "name": "python3"
  },
  "language_info": {
   "codemirror_mode": {
    "name": "ipython",
    "version": 3
   },
   "file_extension": ".py",
   "mimetype": "text/x-python",
   "name": "python",
   "nbconvert_exporter": "python",
   "pygments_lexer": "ipython3",
   "version": "3.7.6"
  }
 },
 "nbformat": 4,
 "nbformat_minor": 4
}
